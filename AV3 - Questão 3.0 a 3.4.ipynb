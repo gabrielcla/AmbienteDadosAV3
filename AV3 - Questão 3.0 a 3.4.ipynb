{
 "cells": [
  {
   "cell_type": "markdown",
   "id": "69dd11df",
   "metadata": {},
   "source": [
    "# <center>AV3 - Ambiente de Dados</center>"
   ]
  },
  {
   "cell_type": "code",
   "execution_count": 1,
   "id": "db812ca1",
   "metadata": {},
   "outputs": [],
   "source": [
    "# Importa nossas funções\n",
    "from funcs import *"
   ]
  },
  {
   "cell_type": "markdown",
   "id": "80f44a50",
   "metadata": {},
   "source": [
    "## 3.0) CRUD de uma entidade\n",
    "Utilizando linguágem de programa, faça um programa que realiza o CRUD* de pelo menos 1 entidade do seu Diagrama Entidade Relacionamento\n",
    "\n",
    "* <b>Ler</b>"
   ]
  },
  {
   "cell_type": "code",
   "execution_count": 2,
   "id": "0c492682",
   "metadata": {},
   "outputs": [
    {
     "data": {
      "text/html": [
       "<div>\n",
       "<style scoped>\n",
       "    .dataframe tbody tr th:only-of-type {\n",
       "        vertical-align: middle;\n",
       "    }\n",
       "\n",
       "    .dataframe tbody tr th {\n",
       "        vertical-align: top;\n",
       "    }\n",
       "\n",
       "    .dataframe thead th {\n",
       "        text-align: right;\n",
       "    }\n",
       "</style>\n",
       "<table border=\"1\" class=\"dataframe\">\n",
       "  <thead>\n",
       "    <tr style=\"text-align: right;\">\n",
       "      <th></th>\n",
       "      <th>id</th>\n",
       "      <th>nome</th>\n",
       "      <th>nascimento</th>\n",
       "      <th>tipo_de_cliente</th>\n",
       "    </tr>\n",
       "  </thead>\n",
       "  <tbody>\n",
       "    <tr>\n",
       "      <th>0</th>\n",
       "      <td>1</td>\n",
       "      <td>João Antônio</td>\n",
       "      <td>1996-07-31</td>\n",
       "      <td>1</td>\n",
       "    </tr>\n",
       "    <tr>\n",
       "      <th>1</th>\n",
       "      <td>2</td>\n",
       "      <td>Pedro</td>\n",
       "      <td>1996-07-31</td>\n",
       "      <td>1</td>\n",
       "    </tr>\n",
       "    <tr>\n",
       "      <th>2</th>\n",
       "      <td>3</td>\n",
       "      <td>Franciso Alberto</td>\n",
       "      <td>1996-07-31</td>\n",
       "      <td>1</td>\n",
       "    </tr>\n",
       "    <tr>\n",
       "      <th>3</th>\n",
       "      <td>4</td>\n",
       "      <td>Maria Ana</td>\n",
       "      <td>1996-07-31</td>\n",
       "      <td>2</td>\n",
       "    </tr>\n",
       "    <tr>\n",
       "      <th>4</th>\n",
       "      <td>5</td>\n",
       "      <td>Marta de Castro</td>\n",
       "      <td>1996-07-31</td>\n",
       "      <td>2</td>\n",
       "    </tr>\n",
       "  </tbody>\n",
       "</table>\n",
       "</div>"
      ],
      "text/plain": [
       "   id              nome  nascimento  tipo_de_cliente\n",
       "0   1      João Antônio  1996-07-31                1\n",
       "1   2             Pedro  1996-07-31                1\n",
       "2   3  Franciso Alberto  1996-07-31                1\n",
       "3   4         Maria Ana  1996-07-31                2\n",
       "4   5   Marta de Castro  1996-07-31                2"
      ]
     },
     "execution_count": 2,
     "metadata": {},
     "output_type": "execute_result"
    }
   ],
   "source": [
    "# Exibir todas as entidades da tabela fornecida\n",
    "mostrar_registros('cliente')"
   ]
  },
  {
   "cell_type": "markdown",
   "id": "4f4457fd",
   "metadata": {},
   "source": [
    "* <b>Criar</b>"
   ]
  },
  {
   "cell_type": "code",
   "execution_count": 3,
   "id": "73096c6a",
   "metadata": {},
   "outputs": [
    {
     "name": "stdout",
     "output_type": "stream",
     "text": [
      "Registro inserido com sucesso!\n"
     ]
    },
    {
     "data": {
      "text/html": [
       "<div>\n",
       "<style scoped>\n",
       "    .dataframe tbody tr th:only-of-type {\n",
       "        vertical-align: middle;\n",
       "    }\n",
       "\n",
       "    .dataframe tbody tr th {\n",
       "        vertical-align: top;\n",
       "    }\n",
       "\n",
       "    .dataframe thead th {\n",
       "        text-align: right;\n",
       "    }\n",
       "</style>\n",
       "<table border=\"1\" class=\"dataframe\">\n",
       "  <thead>\n",
       "    <tr style=\"text-align: right;\">\n",
       "      <th></th>\n",
       "      <th>id</th>\n",
       "      <th>nome</th>\n",
       "      <th>nascimento</th>\n",
       "      <th>tipo_de_cliente</th>\n",
       "    </tr>\n",
       "  </thead>\n",
       "  <tbody>\n",
       "    <tr>\n",
       "      <th>0</th>\n",
       "      <td>1</td>\n",
       "      <td>João Antônio</td>\n",
       "      <td>1996-07-31</td>\n",
       "      <td>1</td>\n",
       "    </tr>\n",
       "    <tr>\n",
       "      <th>1</th>\n",
       "      <td>2</td>\n",
       "      <td>Pedro</td>\n",
       "      <td>1996-07-31</td>\n",
       "      <td>1</td>\n",
       "    </tr>\n",
       "    <tr>\n",
       "      <th>2</th>\n",
       "      <td>3</td>\n",
       "      <td>Franciso Alberto</td>\n",
       "      <td>1996-07-31</td>\n",
       "      <td>1</td>\n",
       "    </tr>\n",
       "    <tr>\n",
       "      <th>3</th>\n",
       "      <td>4</td>\n",
       "      <td>Maria Ana</td>\n",
       "      <td>1996-07-31</td>\n",
       "      <td>2</td>\n",
       "    </tr>\n",
       "    <tr>\n",
       "      <th>4</th>\n",
       "      <td>5</td>\n",
       "      <td>Marta de Castro</td>\n",
       "      <td>1996-07-31</td>\n",
       "      <td>2</td>\n",
       "    </tr>\n",
       "    <tr>\n",
       "      <th>5</th>\n",
       "      <td>20</td>\n",
       "      <td>Carlos</td>\n",
       "      <td>1996-07-31</td>\n",
       "      <td>1</td>\n",
       "    </tr>\n",
       "  </tbody>\n",
       "</table>\n",
       "</div>"
      ],
      "text/plain": [
       "   id              nome  nascimento  tipo_de_cliente\n",
       "0   1      João Antônio  1996-07-31                1\n",
       "1   2             Pedro  1996-07-31                1\n",
       "2   3  Franciso Alberto  1996-07-31                1\n",
       "3   4         Maria Ana  1996-07-31                2\n",
       "4   5   Marta de Castro  1996-07-31                2\n",
       "5  20            Carlos  1996-07-31                1"
      ]
     },
     "execution_count": 3,
     "metadata": {},
     "output_type": "execute_result"
    }
   ],
   "source": [
    "# Criar nova entidade\n",
    "dados_insercao = {'nome': 'Carlos', 'nascimento': '1996-07-31 00:00:00', 'tipo_de_cliente': 1}\n",
    "inserir_registro('cliente', dados_insercao)\n",
    "\n",
    "# Exibir todas as entidades da tabela\n",
    "mostrar_registros('cliente')"
   ]
  },
  {
   "cell_type": "code",
   "execution_count": 4,
   "id": "0e51ce81",
   "metadata": {},
   "outputs": [],
   "source": [
    "# Pegar o id do ultimo registro criado, vai ser usado para alterar e depois para deletar ele\n",
    "id_escolhido = ultimo_id('cliente')"
   ]
  },
  {
   "cell_type": "markdown",
   "id": "0e85df89",
   "metadata": {},
   "source": [
    "* <b>Alterar</b>"
   ]
  },
  {
   "cell_type": "code",
   "execution_count": 5,
   "id": "9a6b31e6",
   "metadata": {},
   "outputs": [
    {
     "name": "stdout",
     "output_type": "stream",
     "text": [
      "Registro atualizado com sucesso!\n",
      "\n"
     ]
    },
    {
     "data": {
      "text/html": [
       "<div>\n",
       "<style scoped>\n",
       "    .dataframe tbody tr th:only-of-type {\n",
       "        vertical-align: middle;\n",
       "    }\n",
       "\n",
       "    .dataframe tbody tr th {\n",
       "        vertical-align: top;\n",
       "    }\n",
       "\n",
       "    .dataframe thead th {\n",
       "        text-align: right;\n",
       "    }\n",
       "</style>\n",
       "<table border=\"1\" class=\"dataframe\">\n",
       "  <thead>\n",
       "    <tr style=\"text-align: right;\">\n",
       "      <th></th>\n",
       "      <th>id</th>\n",
       "      <th>nome</th>\n",
       "      <th>nascimento</th>\n",
       "      <th>tipo_de_cliente</th>\n",
       "    </tr>\n",
       "  </thead>\n",
       "  <tbody>\n",
       "    <tr>\n",
       "      <th>0</th>\n",
       "      <td>1</td>\n",
       "      <td>João Antônio</td>\n",
       "      <td>1996-07-31</td>\n",
       "      <td>1</td>\n",
       "    </tr>\n",
       "    <tr>\n",
       "      <th>1</th>\n",
       "      <td>2</td>\n",
       "      <td>Pedro</td>\n",
       "      <td>1996-07-31</td>\n",
       "      <td>1</td>\n",
       "    </tr>\n",
       "    <tr>\n",
       "      <th>2</th>\n",
       "      <td>3</td>\n",
       "      <td>Franciso Alberto</td>\n",
       "      <td>1996-07-31</td>\n",
       "      <td>1</td>\n",
       "    </tr>\n",
       "    <tr>\n",
       "      <th>3</th>\n",
       "      <td>4</td>\n",
       "      <td>Maria Ana</td>\n",
       "      <td>1996-07-31</td>\n",
       "      <td>2</td>\n",
       "    </tr>\n",
       "    <tr>\n",
       "      <th>4</th>\n",
       "      <td>5</td>\n",
       "      <td>Marta de Castro</td>\n",
       "      <td>1996-07-31</td>\n",
       "      <td>2</td>\n",
       "    </tr>\n",
       "    <tr>\n",
       "      <th>5</th>\n",
       "      <td>20</td>\n",
       "      <td>Novo nome</td>\n",
       "      <td>1996-07-31</td>\n",
       "      <td>3</td>\n",
       "    </tr>\n",
       "  </tbody>\n",
       "</table>\n",
       "</div>"
      ],
      "text/plain": [
       "   id              nome  nascimento  tipo_de_cliente\n",
       "0   1      João Antônio  1996-07-31                1\n",
       "1   2             Pedro  1996-07-31                1\n",
       "2   3  Franciso Alberto  1996-07-31                1\n",
       "3   4         Maria Ana  1996-07-31                2\n",
       "4   5   Marta de Castro  1996-07-31                2\n",
       "5  20         Novo nome  1996-07-31                3"
      ]
     },
     "execution_count": 5,
     "metadata": {},
     "output_type": "execute_result"
    }
   ],
   "source": [
    "# Atualizar entidade\n",
    "novos_dados_atualizacao = {'nome': 'Novo nome','tipo_de_cliente': 3}\n",
    "atualizar_registro('cliente', id_escolhido, novos_dados_atualizacao)\n",
    "\n",
    "# Exibir todas as entidades da tabela\n",
    "mostrar_registros('cliente')"
   ]
  },
  {
   "cell_type": "markdown",
   "id": "e046d39d",
   "metadata": {},
   "source": [
    "* <b>Deletar</b>"
   ]
  },
  {
   "cell_type": "code",
   "execution_count": 6,
   "id": "4d034df4",
   "metadata": {},
   "outputs": [
    {
     "name": "stdout",
     "output_type": "stream",
     "text": [
      "Registro excluído com sucesso!\n",
      "\n"
     ]
    },
    {
     "data": {
      "text/html": [
       "<div>\n",
       "<style scoped>\n",
       "    .dataframe tbody tr th:only-of-type {\n",
       "        vertical-align: middle;\n",
       "    }\n",
       "\n",
       "    .dataframe tbody tr th {\n",
       "        vertical-align: top;\n",
       "    }\n",
       "\n",
       "    .dataframe thead th {\n",
       "        text-align: right;\n",
       "    }\n",
       "</style>\n",
       "<table border=\"1\" class=\"dataframe\">\n",
       "  <thead>\n",
       "    <tr style=\"text-align: right;\">\n",
       "      <th></th>\n",
       "      <th>id</th>\n",
       "      <th>nome</th>\n",
       "      <th>nascimento</th>\n",
       "      <th>tipo_de_cliente</th>\n",
       "    </tr>\n",
       "  </thead>\n",
       "  <tbody>\n",
       "    <tr>\n",
       "      <th>0</th>\n",
       "      <td>1</td>\n",
       "      <td>João Antônio</td>\n",
       "      <td>1996-07-31</td>\n",
       "      <td>1</td>\n",
       "    </tr>\n",
       "    <tr>\n",
       "      <th>1</th>\n",
       "      <td>2</td>\n",
       "      <td>Pedro</td>\n",
       "      <td>1996-07-31</td>\n",
       "      <td>1</td>\n",
       "    </tr>\n",
       "    <tr>\n",
       "      <th>2</th>\n",
       "      <td>3</td>\n",
       "      <td>Franciso Alberto</td>\n",
       "      <td>1996-07-31</td>\n",
       "      <td>1</td>\n",
       "    </tr>\n",
       "    <tr>\n",
       "      <th>3</th>\n",
       "      <td>4</td>\n",
       "      <td>Maria Ana</td>\n",
       "      <td>1996-07-31</td>\n",
       "      <td>2</td>\n",
       "    </tr>\n",
       "    <tr>\n",
       "      <th>4</th>\n",
       "      <td>5</td>\n",
       "      <td>Marta de Castro</td>\n",
       "      <td>1996-07-31</td>\n",
       "      <td>2</td>\n",
       "    </tr>\n",
       "  </tbody>\n",
       "</table>\n",
       "</div>"
      ],
      "text/plain": [
       "   id              nome  nascimento  tipo_de_cliente\n",
       "0   1      João Antônio  1996-07-31                1\n",
       "1   2             Pedro  1996-07-31                1\n",
       "2   3  Franciso Alberto  1996-07-31                1\n",
       "3   4         Maria Ana  1996-07-31                2\n",
       "4   5   Marta de Castro  1996-07-31                2"
      ]
     },
     "execution_count": 6,
     "metadata": {},
     "output_type": "execute_result"
    }
   ],
   "source": [
    "# Excluir entidade\n",
    "excluir_registro('cliente', id_escolhido)\n",
    "\n",
    "# Exibir todas as entidades da tabela\n",
    "mostrar_registros('cliente')"
   ]
  },
  {
   "cell_type": "code",
   "execution_count": null,
   "id": "d28f546d",
   "metadata": {},
   "outputs": [],
   "source": []
  },
  {
   "cell_type": "markdown",
   "id": "090aa847",
   "metadata": {},
   "source": [
    "<hr>\n",
    "\n",
    "## 3.2) Utilizar transação nos INSERTS"
   ]
  },
  {
   "cell_type": "code",
   "execution_count": 7,
   "id": "6e396640",
   "metadata": {},
   "outputs": [
    {
     "name": "stdout",
     "output_type": "stream",
     "text": [
      "Registro inserido com sucesso!\n"
     ]
    }
   ],
   "source": [
    "# Inserir dados usando transação\n",
    "dados_insercao = {'nome': 'Carlos', 'nascimento': '1996-07-31 00:00:00', 'tipo_de_cliente': 1}\n",
    "inserir_registro('cliente', dados_insercao)\n",
    "\n",
    "# Exibir registros\n",
    "df = fazer_consulta('SELECT * FROM Cliente')"
   ]
  },
  {
   "cell_type": "markdown",
   "id": "f042a16d",
   "metadata": {},
   "source": [
    "<hr>\n",
    "\n",
    "## 3.3) Cadastro em massa CSV\n",
    "\n",
    "* Criar um método para cadastrar em massa dados provenientes de um arquivo CSV. Obrigatoriamente os INSERTS realizados nesta atividades devem ser inseridos no banco através de uma única transação."
   ]
  },
  {
   "cell_type": "code",
   "execution_count": 8,
   "id": "0dacd964",
   "metadata": {},
   "outputs": [
    {
     "name": "stdout",
     "output_type": "stream",
     "text": [
      "Todos os registros da tabela foram excluídos com sucesso!\n",
      "Todos os registros da tabela foram excluídos com sucesso!\n"
     ]
    }
   ],
   "source": [
    "# Exclui todos os registros da tabela venda e cliente\n",
    "excluir_todos_registros('venda')\n",
    "excluir_todos_registros('cliente')"
   ]
  },
  {
   "cell_type": "code",
   "execution_count": 9,
   "id": "940f3e98",
   "metadata": {},
   "outputs": [
    {
     "name": "stdout",
     "output_type": "stream",
     "text": [
      "Registros inseridos com sucesso!\n",
      "Registros inseridos com sucesso!\n"
     ]
    }
   ],
   "source": [
    "# Adiciona todos os registros do arquivo CSV na tabela cliente e na tabela venda\n",
    "cadastrar_em_massa_dados_csv('cliente', 'tabelas_prontas/cliente.csv')\n",
    "cadastrar_em_massa_dados_csv('venda', 'tabelas_prontas/venda.csv')"
   ]
  },
  {
   "cell_type": "markdown",
   "id": "e974fe4d",
   "metadata": {},
   "source": [
    "<hr>\n",
    "\n",
    "## 3.1) Consulta utilizando Join\n",
    "\n",
    "* Mostrar os ultimo clientes a que a loja vendeu"
   ]
  },
  {
   "cell_type": "code",
   "execution_count": 12,
   "id": "176d9d8a",
   "metadata": {},
   "outputs": [
    {
     "data": {
      "text/html": [
       "<div>\n",
       "<style scoped>\n",
       "    .dataframe tbody tr th:only-of-type {\n",
       "        vertical-align: middle;\n",
       "    }\n",
       "\n",
       "    .dataframe tbody tr th {\n",
       "        vertical-align: top;\n",
       "    }\n",
       "\n",
       "    .dataframe thead th {\n",
       "        text-align: right;\n",
       "    }\n",
       "</style>\n",
       "<table border=\"1\" class=\"dataframe\">\n",
       "  <thead>\n",
       "    <tr style=\"text-align: right;\">\n",
       "      <th></th>\n",
       "      <th>Cliente</th>\n",
       "      <th>id_cliente</th>\n",
       "      <th>Data</th>\n",
       "      <th>Endereço</th>\n",
       "    </tr>\n",
       "  </thead>\n",
       "  <tbody>\n",
       "    <tr>\n",
       "      <th>0</th>\n",
       "      <td>João Antônio</td>\n",
       "      <td>1</td>\n",
       "      <td>2023-12-03 13:00:00</td>\n",
       "      <td>Rua dos Alfeneiros 4</td>\n",
       "    </tr>\n",
       "    <tr>\n",
       "      <th>1</th>\n",
       "      <td>Pedro</td>\n",
       "      <td>2</td>\n",
       "      <td>2023-12-02 10:00:00</td>\n",
       "      <td>Rua dos Bobos N0</td>\n",
       "    </tr>\n",
       "    <tr>\n",
       "      <th>2</th>\n",
       "      <td>Pedro</td>\n",
       "      <td>2</td>\n",
       "      <td>2023-12-02 05:00:00</td>\n",
       "      <td>Rua dos Bobos N0</td>\n",
       "    </tr>\n",
       "    <tr>\n",
       "      <th>3</th>\n",
       "      <td>João Antônio</td>\n",
       "      <td>1</td>\n",
       "      <td>2023-12-01 12:45:00</td>\n",
       "      <td>Rua dos Jogadores 123</td>\n",
       "    </tr>\n",
       "    <tr>\n",
       "      <th>4</th>\n",
       "      <td>Pedro</td>\n",
       "      <td>2</td>\n",
       "      <td>2023-12-01 09:00:00</td>\n",
       "      <td>Rua dos Bobos N0</td>\n",
       "    </tr>\n",
       "  </tbody>\n",
       "</table>\n",
       "</div>"
      ],
      "text/plain": [
       "        Cliente  id_cliente                Data               Endereço\n",
       "0  João Antônio           1 2023-12-03 13:00:00   Rua dos Alfeneiros 4\n",
       "1         Pedro           2 2023-12-02 10:00:00       Rua dos Bobos N0\n",
       "2         Pedro           2 2023-12-02 05:00:00       Rua dos Bobos N0\n",
       "3  João Antônio           1 2023-12-01 12:45:00  Rua dos Jogadores 123\n",
       "4         Pedro           2 2023-12-01 09:00:00       Rua dos Bobos N0"
      ]
     },
     "execution_count": 12,
     "metadata": {},
     "output_type": "execute_result"
    }
   ],
   "source": [
    "consulta = \"\"\"\n",
    "SELECT\n",
    "    C.nome AS 'Cliente',\n",
    "    V.id_cliente, \n",
    "    V.data_hora AS 'Data',\n",
    "    V.endereco_de_envio AS 'Endereço'\n",
    "    \n",
    "FROM Venda V\n",
    "    INNER JOIN Cliente C\n",
    "        ON V.id_cliente = C.id\n",
    "\n",
    "ORDER BY V.data_hora DESC;\n",
    "\"\"\"\n",
    "\n",
    "# Retorna um Dataframe com o resultado da consulta sql\n",
    "df = fazer_consulta(consulta)\n",
    "df"
   ]
  },
  {
   "cell_type": "markdown",
   "id": "f3dad4e0",
   "metadata": {},
   "source": [
    "<hr>\n",
    "\n",
    "## 3.4) Realizar uma exportação para CSV de uma consulta executada no banco."
   ]
  },
  {
   "cell_type": "code",
   "execution_count": 11,
   "id": "94dd39e7",
   "metadata": {},
   "outputs": [
    {
     "name": "stdout",
     "output_type": "stream",
     "text": [
      "Arquivo gravado com sucesso!\n"
     ]
    }
   ],
   "source": [
    "gravar_csv(df, 'ComprasClientes.csv')"
   ]
  },
  {
   "cell_type": "code",
   "execution_count": null,
   "id": "dbd8aca2",
   "metadata": {},
   "outputs": [],
   "source": []
  }
 ],
 "metadata": {
  "kernelspec": {
   "display_name": "Python 3 (ipykernel)",
   "language": "python",
   "name": "python3"
  },
  "language_info": {
   "codemirror_mode": {
    "name": "ipython",
    "version": 3
   },
   "file_extension": ".py",
   "mimetype": "text/x-python",
   "name": "python",
   "nbconvert_exporter": "python",
   "pygments_lexer": "ipython3",
   "version": "3.10.13"
  }
 },
 "nbformat": 4,
 "nbformat_minor": 5
}
